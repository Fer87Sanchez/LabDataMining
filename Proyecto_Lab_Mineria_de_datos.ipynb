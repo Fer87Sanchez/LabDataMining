{
  "cells": [
    {
      "cell_type": "code",
      "source": [
        "pip show azureml-sdk"
      ],
      "outputs": [
        {
          "output_type": "stream",
          "name": "stdout",
          "text": "Name: azureml-sdk\r\nVersion: 1.58.0\r\nSummary: Used to build and run machine learning workflows upon the     Azure Machine Learning service.\r\nHome-page: https://docs.microsoft.com/python/api/overview/azure/ml/?view=azure-ml-py\r\nAuthor: Microsoft Corp\r\nAuthor-email: \r\nLicense: https://aka.ms/azureml-sdk-license\r\nLocation: /anaconda/envs/azureml_py310_sdkv2/lib/python3.10/site-packages\r\nRequires: azureml-core, azureml-dataset-runtime, azureml-pipeline, azureml-train-automl-client, azureml-train-core\r\nRequired-by: \r\nNote: you may need to restart the kernel to use updated packages.\n"
        }
      ],
      "execution_count": 1,
      "metadata": {
        "gather": {
          "logged": 1732324071307
        }
      }
    },
    {
      "cell_type": "code",
      "source": [
        "# Importar las bibliotecas necesarias\n",
        "import os\n",
        "import pandas as pd\n",
        "from azureml.core import Workspace, Dataset\n",
        "from sklearn.model_selection import train_test_split\n",
        "from sklearn.preprocessing import StandardScaler, MinMaxScaler\n",
        "from sklearn.ensemble import RandomForestClassifier\n",
        "from sklearn.metrics import classification_report, accuracy_score, mean_absolute_error, mean_squared_error\n",
        "from sklearn.preprocessing import LabelEncoder\n",
        "import numpy as np\n",
        "\n",
        "# Cargar el espacio de trabajo de Azure\n",
        "subscription_id = 'bfde7f1d-4598-4e8f-ab3c-31cb49ab70e4'\n",
        "resource_group = 'desarrollo'\n",
        "workspace_name = 'amlistea'\n",
        "\n",
        "# Obtener el espacio de trabajo\n",
        "workspace = Workspace(subscription_id, resource_group, workspace_name)\n",
        "\n",
        "# Obtener el dataset registrado por su nombre\n",
        "dataset_name = 'Dataset'  # Nombre del dataset en el workspace\n",
        "dataset = Dataset.get_by_name(workspace, name=dataset_name)\n",
        "\n",
        "# Definir la ruta del archivo donde se descargará el dataset\n",
        "file_path = './synthetic_customer_data.csv'\n",
        "\n",
        "# Opción 1: Sobrescribir el archivo si ya existe\n",
        "# dataset.download(target_path='./', overwrite=True)\n",
        "\n",
        "# Opción 2: Eliminar el archivo si ya existe antes de descargarlo\n",
        "if os.path.exists(file_path):\n",
        "    os.remove(file_path)  # Eliminar el archivo existente\n",
        "\n",
        "# Descargar el dataset\n",
        "dataset.download(target_path='./', overwrite=False)\n",
        "\n",
        "# Leer el archivo CSV descargado\n",
        "df = pd.read_csv(file_path)\n",
        "\n",
        "# Vista inicial\n",
        "print(df.head())\n",
        "\n",
        "# Eliminación de puntos en columnas numéricas y conversión a float\n",
        "for col in ['annual_income', 'total_spent', 'avg_purchase_value', 'online_activity_score']:\n",
        "    df[col] = df[col].astype(str).str.replace('.', '').astype(float)\n",
        "\n",
        "# Verificar valores nulos en cada columna\n",
        "null_values = df.isnull().sum()\n",
        "print(\"Valores nulos por columna:\\n\", null_values)\n",
        "\n",
        "# Contar filas duplicadas\n",
        "num_duplicates = df.duplicated().sum()\n",
        "print(\"Número de filas duplicadas:\", num_duplicates)\n",
        "\n",
        "# Tratamiento de valores nulos\n",
        "df.fillna({\n",
        "    'gender': df['gender'].mode()[0],\n",
        "    'customer_segment': df['customer_segment'].mode()[0],\n",
        "    'annual_income': df['annual_income'].median(),\n",
        "    'total_spent': df['total_spent'].median(),\n",
        "    'avg_purchase_value': df['avg_purchase_value'].median(),\n",
        "    'online_activity_score': df['online_activity_score'].median()\n",
        "}, inplace=True)\n",
        "\n",
        "# Verificar valores nulos nuevamente después de tratamiento\n",
        "null_values = df.isnull().sum()\n",
        "print(\"Valores nulos por columna después del tratamiento:\\n\", null_values)\n",
        "\n",
        "# Normalización o estandarización de las columnas numéricas\n",
        "scaler = StandardScaler()  # Usa MinMaxScaler() para normalizar entre 0 y 1 si prefieres\n",
        "cols_to_scale = ['annual_income', 'total_spent', 'avg_purchase_value', 'online_activity_score']\n",
        "df[cols_to_scale] = scaler.fit_transform(df[cols_to_scale])\n",
        "\n",
        "# División en conjunto de entrenamiento y validación\n",
        "train_df, val_df = train_test_split(df, test_size=0.2, random_state=42, stratify=df['customer_segment'])\n",
        "print(\"Conjunto de entrenamiento:\", train_df.shape)\n",
        "print(\"Conjunto de validación:\", val_df.shape)\n",
        "\n",
        "# Preparar características (X) y etiquetas (y) para el conjunto de entrenamiento\n",
        "X = train_df.drop(columns=['customer_segment', 'customer_id'])  # Eliminar 'customer_id' y la columna de etiqueta\n",
        "y = train_df['customer_segment']\n",
        "\n",
        "# Codificación de etiquetas categóricas (customer_segment)\n",
        "le = LabelEncoder()\n",
        "y = le.fit_transform(y)  # Convierte 'customer_segment' en valores numéricos (2, 1, 0)\n",
        "\n",
        "# Convertir otras variables categóricas (gender) en valores numéricos\n",
        "X = pd.get_dummies(X, columns=['gender'], drop_first=True)\n",
        "\n",
        "# Definir el modelo\n",
        "model = RandomForestClassifier(max_depth=10, n_estimators=200, random_state=42)\n",
        "\n",
        "# Entrenar el modelo\n",
        "model.fit(X, y)\n",
        "\n",
        "# Importar joblib para guardar el modelo\n",
        "from joblib import dump\n",
        "\n",
        "# Definir el nombre y la ruta del archivo .joblib\n",
        "model_path = './random_forest_model.joblib'\n",
        "\n",
        "# Guardar el modelo\n",
        "dump(model, model_path)\n",
        "\n",
        "print(f\"Modelo guardado en: {model_path}\")\n",
        "\n",
        "# Preparar características (X_val) y etiquetas (y_val) para el conjunto de validación\n",
        "X_val = val_df.drop(columns=['customer_segment', 'customer_id'])\n",
        "X_val = pd.get_dummies(X_val, columns=['gender'], drop_first=True)  # Codificación de 'gender' como en X\n",
        "y_val = le.transform(val_df['customer_segment'])  # Codificar etiquetas de validación\n",
        "\n",
        "# Asegurarse de que X_val tiene las mismas columnas que X\n",
        "missing_cols = set(X.columns) - set(X_val.columns)\n",
        "for col in missing_cols:\n",
        "    X_val[col] = 0\n",
        "X_val = X_val[X.columns]  # Reordenar columnas para que coincidan con X\n",
        "\n",
        "# Realizar predicciones\n",
        "y_pred = model.predict(X_val)\n",
        "\n",
        "# Calcular y mostrar métricas\n",
        "print(\"Accuracy:\", accuracy_score(y_val, y_pred))\n",
        "print(\"Classification Report:\\n\", classification_report(y_val, y_pred))\n",
        "\n",
        "# Calcular MSE, RMSE y MAE\n",
        "mse = mean_squared_error(y_val, y_pred)\n",
        "rmse = np.sqrt(mse)\n",
        "mae = mean_absolute_error(y_val, y_pred)\n",
        "\n",
        "print(\"MSE:\", mse)\n",
        "print(\"RMSE:\", rmse)\n",
        "print(\"MAE:\", mae)"
      ],
      "outputs": [
        {
          "output_type": "stream",
          "name": "stdout",
          "text": "{'infer_column_types': 'False', 'activity': 'download.to_path'}\n{'infer_column_types': 'False', 'activity': 'download.to_path', 'activityApp': 'FileDataset'}\n{'infer_column_types': 'False', 'activity': 'download'}\n{'infer_column_types': 'False', 'activity': 'download', 'activityApp': 'FileDataset'}\n  customer_id  age  gender  annual_income   total_spent  num_purchases  \\\n0   CUST_0001   56    Male          65648  49624.926758             17   \n1   CUST_0002   69    Male         123537  46357.348299            196   \n2   CUST_0003   46    Male         145991  27043.860801            175   \n3   CUST_0004   32  Female          29516  42117.461389             25   \n4   CUST_0005   60    Male         132863  26095.803066             94   \n\n   avg_purchase_value  online_activity_score  loyalty_program  \\\n0          467.729972              52.525842                0   \n1          874.799829              11.120875                0   \n2          207.419293              86.816930                0   \n3          131.749484              29.736153                0   \n4          289.081236              16.253799                1   \n\n   days_since_last_purchase  num_site_visits customer_segment  \n0                       235               61     medium_value  \n1                       182               48     medium_value  \n2                       199               50     medium_value  \n3                       356               32     medium_value  \n4                       245               29       high_value  \nValores nulos por columna:\n customer_id                 0\nage                         0\ngender                      0\nannual_income               0\ntotal_spent                 0\nnum_purchases               0\navg_purchase_value          0\nonline_activity_score       0\nloyalty_program             0\ndays_since_last_purchase    0\nnum_site_visits             0\ncustomer_segment            0\ndtype: int64\nNúmero de filas duplicadas: 0\nValores nulos por columna después del tratamiento:\n customer_id                 0\nage                         0\ngender                      0\nannual_income               0\ntotal_spent                 0\nnum_purchases               0\navg_purchase_value          0\nonline_activity_score       0\nloyalty_program             0\ndays_since_last_purchase    0\nnum_site_visits             0\ncustomer_segment            0\ndtype: int64\nConjunto de entrenamiento: (800, 12)\nConjunto de validación: (200, 12)\n"
        },
        {
          "output_type": "stream",
          "name": "stderr",
          "text": "/anaconda/envs/azureml_py310_sdkv2/lib/python3.10/site-packages/sklearn/metrics/_classification.py:1531: UndefinedMetricWarning: Precision is ill-defined and being set to 0.0 in labels with no predicted samples. Use `zero_division` parameter to control this behavior.\n  _warn_prf(average, modifier, f\"{metric.capitalize()} is\", len(result))\n/anaconda/envs/azureml_py310_sdkv2/lib/python3.10/site-packages/sklearn/metrics/_classification.py:1531: UndefinedMetricWarning: Precision is ill-defined and being set to 0.0 in labels with no predicted samples. Use `zero_division` parameter to control this behavior.\n  _warn_prf(average, modifier, f\"{metric.capitalize()} is\", len(result))\n/anaconda/envs/azureml_py310_sdkv2/lib/python3.10/site-packages/sklearn/metrics/_classification.py:1531: UndefinedMetricWarning: Precision is ill-defined and being set to 0.0 in labels with no predicted samples. Use `zero_division` parameter to control this behavior.\n  _warn_prf(average, modifier, f\"{metric.capitalize()} is\", len(result))\n"
        }
      ],
      "execution_count": 2,
      "metadata": {
        "jupyter": {
          "source_hidden": false,
          "outputs_hidden": false
        },
        "nteract": {
          "transient": {
            "deleting": false
          }
        },
        "gather": {
          "logged": 1732324084661
        }
      }
    }
  ],
  "metadata": {
    "kernelspec": {
      "name": "python310-sdkv2",
      "language": "python",
      "display_name": "Python 3.10 - SDK v2"
    },
    "language_info": {
      "name": "python",
      "version": "3.10.14",
      "mimetype": "text/x-python",
      "codemirror_mode": {
        "name": "ipython",
        "version": 3
      },
      "pygments_lexer": "ipython3",
      "nbconvert_exporter": "python",
      "file_extension": ".py"
    },
    "microsoft": {
      "ms_spell_check": {
        "ms_spell_check_language": "es"
      },
      "host": {
        "AzureML": {
          "notebookHasBeenCompleted": true
        }
      }
    },
    "kernel_info": {
      "name": "python310-sdkv2"
    },
    "nteract": {
      "version": "nteract-front-end@1.0.0"
    }
  },
  "nbformat": 4,
  "nbformat_minor": 2
}